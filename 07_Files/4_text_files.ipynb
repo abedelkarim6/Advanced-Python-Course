{
 "cells": [
  {
   "attachments": {},
   "cell_type": "markdown",
   "id": "790e70b2",
   "metadata": {},
   "source": [
    "# General Text Files"
   ]
  },
  {
   "cell_type": "code",
   "execution_count": null,
   "id": "646ef636",
   "metadata": {},
   "outputs": [
    {
     "name": "stdout",
     "output_type": "stream",
     "text": [
      "✅ File written: sample.txt\n"
     ]
    }
   ],
   "source": [
    "# 📝 Working with Text Files in Python\n",
    "\n",
    "# ---\n",
    "# 🔹 Section 1: Writing to a Text File\n",
    "text = \"\"\"Hello, this is a sample text file.\n",
    "It contains multiple lines.\n",
    "Some lines may have extra spaces.   \"\"\"\n",
    "\n",
    "# Write text to file\n",
    "with open(\"sample.txt\", \"w\") as file:\n",
    "    file.write(text)\n",
    "\n",
    "print(\"✅ File written: sample.txt\")"
   ]
  },
  {
   "cell_type": "code",
   "execution_count": null,
   "id": "7069973d",
   "metadata": {},
   "outputs": [
    {
     "name": "stdout",
     "output_type": "stream",
     "text": [
      "✅ File written: sample.txt\n"
     ]
    }
   ],
   "source": [
    "code = \"\"\"print(\"Hello, World!\")\"\"\"\n",
    "\n",
    "# Write text to file\n",
    "with open(\"code.py\", \"w\") as file:\n",
    "    file.write(code)\n",
    "\n",
    "print(\"✅ File written: code.py\")"
   ]
  },
  {
   "cell_type": "code",
   "execution_count": null,
   "id": "5cbe844c",
   "metadata": {},
   "outputs": [
    {
     "name": "stdout",
     "output_type": "stream",
     "text": [
      "📄 Full Content:\n",
      "Hello, this is a sample text file.\n",
      "It contains multiple lines.\n",
      "Some lines may have extra spaces.   \n"
     ]
    }
   ],
   "source": [
    "# ---\n",
    "# 🔹 Section 2: Reading a Text File\n",
    "\n",
    "with open(\"sample.txt\", \"r\") as file:\n",
    "    content = file.read()\n",
    "\n",
    "print(\"📄 Full Content:\")\n",
    "print(content)"
   ]
  },
  {
   "cell_type": "code",
   "execution_count": 4,
   "id": "fb978797",
   "metadata": {},
   "outputs": [
    {
     "name": "stdout",
     "output_type": "stream",
     "text": [
      "📃 Lines:\n",
      "Line 1: Hello, this is a sample text file.\n",
      "Line 2: It contains multiple lines.\n",
      "Line 3: Some lines may have extra spaces.\n"
     ]
    }
   ],
   "source": [
    "# ---\n",
    "# 🔹 Section 3: Reading Line by Line\n",
    "\n",
    "with open(\"sample.txt\", \"r\") as file:\n",
    "    lines = file.readlines()\n",
    "\n",
    "print(\"📃 Lines:\")\n",
    "for i, line in enumerate(lines):\n",
    "    print(f\"Line {i+1}: {line.strip()}\")"
   ]
  },
  {
   "cell_type": "code",
   "execution_count": 5,
   "id": "180702b7",
   "metadata": {},
   "outputs": [
    {
     "name": "stdout",
     "output_type": "stream",
     "text": [
      "➕ Line appended.\n"
     ]
    }
   ],
   "source": [
    "# ---\n",
    "# 🔹 Section 4: Appending to an Existing File\n",
    "\n",
    "new_line = \"\\nThis line was added later.\"\n",
    "\n",
    "with open(\"sample.txt\", \"a\") as file:\n",
    "    file.write(new_line)\n",
    "\n",
    "print(\"➕ Line appended.\")"
   ]
  },
  {
   "cell_type": "code",
   "execution_count": 6,
   "id": "dbad9c3a",
   "metadata": {},
   "outputs": [
    {
     "name": "stdout",
     "output_type": "stream",
     "text": [
      "🔢 Word Frequencies:\n",
      "hello: 1\n",
      "this: 2\n",
      "is: 1\n",
      "a: 1\n",
      "sample: 1\n",
      "text: 1\n",
      "file: 1\n",
      "it: 1\n",
      "contains: 1\n",
      "multiple: 1\n",
      "lines: 2\n",
      "some: 1\n",
      "may: 1\n",
      "have: 1\n",
      "extra: 1\n",
      "spaces: 1\n",
      "line: 1\n",
      "was: 1\n",
      "added: 1\n",
      "later: 1\n"
     ]
    }
   ],
   "source": [
    "# ---\n",
    "# 🔹 Section 5: Word Frequency Counter\n",
    "\n",
    "from collections import Counter\n",
    "\n",
    "with open(\"sample.txt\", \"r\") as file:\n",
    "    words = file.read().lower().split()\n",
    "\n",
    "cleaned_words = [word.strip(\".,!?\") for word in words]\n",
    "\n",
    "word_counts = Counter(cleaned_words)\n",
    "\n",
    "print(\"🔢 Word Frequencies:\")\n",
    "for word, count in word_counts.items():\n",
    "    print(f\"{word}: {count}\")"
   ]
  },
  {
   "cell_type": "code",
   "execution_count": null,
   "id": "d395dbf2",
   "metadata": {},
   "outputs": [],
   "source": [
    "# ---\n",
    "# 🔹 Section 6: Remove Extra Whitespace and Save Cleaned File\n",
    "\n",
    "with open(\"sample.txt\", \"r\") as file:\n",
    "    lines = file.readlines()\n",
    "\n",
    "cleaned = [line.strip() + \"\\n\" for line in lines if line.strip()]\n",
    "\n",
    "with open(\"cleaned_sample.txt\", \"w\") as file:\n",
    "    file.writelines(cleaned)\n",
    "\n",
    "print(\"🧹 Cleaned file saved as cleaned_sample.txt\")"
   ]
  },
  {
   "cell_type": "markdown",
   "id": "a519920d",
   "metadata": {},
   "source": [
    "# Extra Functions"
   ]
  },
  {
   "cell_type": "code",
   "execution_count": null,
   "id": "7c5b4ecd",
   "metadata": {},
   "outputs": [],
   "source": [
    "import os\n",
    "\n",
    "\n",
    "def create_file(filename):\n",
    "    try:\n",
    "        with open(filename, \"w\") as f:\n",
    "            f.write(\"Hello, world!\\n\")\n",
    "        print(\"File \" + filename + \" created successfully.\")\n",
    "    except IOError:\n",
    "        print(\"Error: could not create file \" + filename)\n",
    "\n",
    "\n",
    "def read_file(filename):\n",
    "    try:\n",
    "        with open(filename, \"r\") as f:\n",
    "            contents = f.read()\n",
    "            print(contents)\n",
    "    except IOError:\n",
    "        print(\"Error: could not read file \" + filename)\n",
    "\n",
    "\n",
    "def append_file(filename, text):\n",
    "    try:\n",
    "        with open(filename, \"a\") as f:\n",
    "            f.write(text)\n",
    "        print(\"Text appended to file \" + filename + \" successfully.\")\n",
    "    except IOError:\n",
    "        print(\"Error: could not append to file \" + filename)\n",
    "\n",
    "\n",
    "def rename_file(filename, new_filename):\n",
    "    try:\n",
    "        os.rename(filename, new_filename)\n",
    "        print(\"File \" + filename + \" renamed to \" + new_filename + \" successfully.\")\n",
    "    except IOError:\n",
    "        print(\"Error: could not rename file \" + filename)\n",
    "\n",
    "\n",
    "def delete_file(filename):\n",
    "    try:\n",
    "        os.remove(filename)\n",
    "        print(\"File \" + filename + \" deleted successfully.\")\n",
    "    except IOError:\n",
    "        print(\"Error: could not delete file \" + filename)"
   ]
  },
  {
   "cell_type": "code",
   "execution_count": null,
   "id": "52e4483f",
   "metadata": {},
   "outputs": [],
   "source": [
    "filename = \"example.txt\"\n",
    "new_filename = \"new_example.txt\"\n",
    "\n",
    "create_file(filename)\n",
    "read_file(filename)\n",
    "append_file(filename, \"This is some additional text.\\n\")\n",
    "read_file(filename)\n",
    "rename_file(filename, new_filename)\n",
    "read_file(new_filename)\n",
    "delete_file(new_filename)\n"
   ]
  },
  {
   "cell_type": "markdown",
   "id": "2629970f",
   "metadata": {},
   "source": [
    "# JSON files"
   ]
  },
  {
   "cell_type": "code",
   "execution_count": 7,
   "id": "0c6e4660",
   "metadata": {},
   "outputs": [
    {
     "name": "stdout",
     "output_type": "stream",
     "text": [
      "✅ JSON file created: user.json\n"
     ]
    }
   ],
   "source": [
    "# 🔹 Section 7: Writing a JSON File\n",
    "\n",
    "import json\n",
    "\n",
    "# Sample Python dictionary\n",
    "data = {\n",
    "    \"name\": \"Alice\",\n",
    "    \"age\": 25,\n",
    "    \"languages\": [\"Python\", \"JavaScript\"],\n",
    "    \"is_student\": False,\n",
    "}\n",
    "\n",
    "# Write to a JSON file\n",
    "with open(\"user.json\", \"w\") as file:\n",
    "    json.dump(data, file, indent=4)\n",
    "\n",
    "print(\"✅ JSON file created: user.json\")"
   ]
  },
  {
   "cell_type": "code",
   "execution_count": 8,
   "id": "393420fb",
   "metadata": {},
   "outputs": [
    {
     "name": "stdout",
     "output_type": "stream",
     "text": [
      "📂 Loaded Data:\n",
      "{'name': 'Alice', 'age': 25, 'languages': ['Python', 'JavaScript'], 'is_student': False}\n"
     ]
    }
   ],
   "source": [
    "# 🔹 Section 8: Reading a JSON File\n",
    "\n",
    "# Read and load JSON file as Python dict\n",
    "with open(\"user.json\", \"r\") as file:\n",
    "    user_data = json.load(file)\n",
    "\n",
    "print(\"📂 Loaded Data:\")\n",
    "print(user_data)"
   ]
  },
  {
   "cell_type": "code",
   "execution_count": 9,
   "id": "6d948e4d",
   "metadata": {},
   "outputs": [
    {
     "name": "stdout",
     "output_type": "stream",
     "text": [
      "<class 'dict'>\n"
     ]
    }
   ],
   "source": [
    "print(type(user_data))"
   ]
  },
  {
   "cell_type": "code",
   "execution_count": 10,
   "id": "2f64e551",
   "metadata": {},
   "outputs": [
    {
     "name": "stdout",
     "output_type": "stream",
     "text": [
      "📊 DataFrame:\n",
      "    name  score\n",
      "0  Alice     90\n",
      "1    Bob     82\n",
      "2  Clara     95\n"
     ]
    }
   ],
   "source": [
    "# 🔹 Section 9: Reading JSON into a DataFrame\n",
    "# (for structured JSON like a list of records)\n",
    "\n",
    "import pandas as pd\n",
    "\n",
    "# Simulated JSON list\n",
    "records = [\n",
    "    {\"name\": \"Alice\", \"score\": 90},\n",
    "    {\"name\": \"Bob\", \"score\": 82},\n",
    "    {\"name\": \"Clara\", \"score\": 95},\n",
    "]\n",
    "\n",
    "# Save to file\n",
    "with open(\"records.json\", \"w\") as file:\n",
    "    json.dump(records, file, indent=4)\n",
    "\n",
    "# Load into DataFrame\n",
    "df = pd.read_json(\"records.json\")\n",
    "\n",
    "print(\"📊 DataFrame:\")\n",
    "print(df)"
   ]
  },
  {
   "cell_type": "code",
   "execution_count": null,
   "id": "07b963cc",
   "metadata": {},
   "outputs": [
    {
     "name": "stdout",
     "output_type": "stream",
     "text": [
      "🔎 Flattened JSON:\n",
      "   logged_in user_name    user_info_email user_info_location\n",
      "0       True     Alice  alice@example.com        Netherlands\n"
     ]
    }
   ],
   "source": [
    "# 🔹 Section 10: Flattening Deeply Nested JSON\n",
    "# (for real-world APIs or configs)\n",
    "\n",
    "from pandas import json_normalize\n",
    "\n",
    "nested_data = {\n",
    "    \"user\": {\n",
    "        \"name\": \"Ali\",\n",
    "        \"info\": {\n",
    "            \"email\": \"ali@example.com\", \n",
    "            \"location\": \"Netherlands\"\n",
    "            },\n",
    "    },\n",
    "    \"logged_in\": True,\n",
    "}\n",
    "\n",
    "# Flatten nested structure\n",
    "flat = json_normalize(nested_data, sep=\"_\")\n",
    "\n",
    "print(\"🔎 Flattened JSON:\")\n",
    "print(flat)"
   ]
  }
 ],
 "metadata": {
  "kernelspec": {
   "display_name": "base",
   "language": "python",
   "name": "python3"
  },
  "language_info": {
   "codemirror_mode": {
    "name": "ipython",
    "version": 3
   },
   "file_extension": ".py",
   "mimetype": "text/x-python",
   "name": "python",
   "nbconvert_exporter": "python",
   "pygments_lexer": "ipython3",
   "version": "3.10.12"
  }
 },
 "nbformat": 4,
 "nbformat_minor": 5
}
