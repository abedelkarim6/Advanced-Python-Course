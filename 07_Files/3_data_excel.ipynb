{
 "cells": [
  {
   "cell_type": "code",
   "execution_count": 1,
   "id": "b40b4de0",
   "metadata": {},
   "outputs": [],
   "source": [
    "import pandas as pd\n",
    "import numpy as np"
   ]
  },
  {
   "cell_type": "markdown",
   "id": "e516f2d3",
   "metadata": {},
   "source": [
    "# 1. Reading excel sheets into python objects: dataframes"
   ]
  },
  {
   "cell_type": "code",
   "execution_count": 3,
   "id": "1dfa5061",
   "metadata": {},
   "outputs": [],
   "source": [
    "# data = pd.read_excel('data.xlsx', sheet_name=None)\n",
    "data = pd.read_csv(\"data/medical_cost.csv\")"
   ]
  },
  {
   "cell_type": "code",
   "execution_count": null,
   "id": "946086d5",
   "metadata": {},
   "outputs": [],
   "source": [
    "# creating a dataframe from scratch\n",
    "data3 = pd.DataFrame({\n",
    "    'Name': ['Ali', 'Hassan', 'Mohammad'],\n",
    "    'Age': [25, 30, 35],\n",
    "    'City': ['Sour', 'Saida', 'Bint jbeil']\n",
    "})\n"
   ]
  },
  {
   "cell_type": "markdown",
   "id": "714f7e59",
   "metadata": {},
   "source": [
    "# 2. Exploring dataframes"
   ]
  },
  {
   "cell_type": "code",
   "execution_count": 4,
   "id": "56adca49",
   "metadata": {},
   "outputs": [
    {
     "data": {
      "text/plain": [
       "(1338, 7)"
      ]
     },
     "execution_count": 4,
     "metadata": {},
     "output_type": "execute_result"
    }
   ],
   "source": [
    "data.shape"
   ]
  },
  {
   "cell_type": "code",
   "execution_count": 5,
   "id": "21ff7539",
   "metadata": {},
   "outputs": [
    {
     "data": {
      "text/plain": [
       "Index(['age', 'gender', 'bmi', 'children', 'smoker', 'region', 'charges'], dtype='object')"
      ]
     },
     "execution_count": 5,
     "metadata": {},
     "output_type": "execute_result"
    }
   ],
   "source": [
    "data.columns"
   ]
  },
  {
   "cell_type": "code",
   "execution_count": 8,
   "id": "161248fe",
   "metadata": {},
   "outputs": [
    {
     "data": {
      "application/vnd.microsoft.datawrangler.viewer.v0+json": {
       "columns": [
        {
         "name": "index",
         "rawType": "int64",
         "type": "integer"
        },
        {
         "name": "age",
         "rawType": "int64",
         "type": "integer"
        },
        {
         "name": "gender",
         "rawType": "object",
         "type": "string"
        },
        {
         "name": "bmi",
         "rawType": "float64",
         "type": "float"
        },
        {
         "name": "children",
         "rawType": "int64",
         "type": "integer"
        },
        {
         "name": "smoker",
         "rawType": "object",
         "type": "string"
        },
        {
         "name": "region",
         "rawType": "object",
         "type": "string"
        },
        {
         "name": "charges",
         "rawType": "float64",
         "type": "float"
        }
       ],
       "ref": "f3e870d7-1fd0-4fa4-a660-7a0dd71d8e06",
       "rows": [
        [
         "0",
         "19",
         "female",
         "27.9",
         "0",
         "yes",
         "southwest",
         "16884.924"
        ],
        [
         "1",
         "18",
         "male",
         "33.77",
         "1",
         "no",
         "southeast",
         "1725.5523"
        ],
        [
         "2",
         "28",
         "male",
         "33.0",
         "3",
         "no",
         "southeast",
         "4449.462"
        ],
        [
         "3",
         "33",
         "male",
         "22.705",
         "0",
         "no",
         "northwest",
         "21984.47061"
        ],
        [
         "4",
         "32",
         "male",
         "28.88",
         "0",
         "no",
         "northwest",
         "3866.8552"
        ],
        [
         "5",
         "31",
         "female",
         "25.74",
         "0",
         "no",
         "southeast",
         "3756.6216"
        ],
        [
         "6",
         "46",
         "female",
         "33.44",
         "1",
         "no",
         "southeast",
         "8240.5896"
        ]
       ],
       "shape": {
        "columns": 7,
        "rows": 7
       }
      },
      "text/html": [
       "<div>\n",
       "<style scoped>\n",
       "    .dataframe tbody tr th:only-of-type {\n",
       "        vertical-align: middle;\n",
       "    }\n",
       "\n",
       "    .dataframe tbody tr th {\n",
       "        vertical-align: top;\n",
       "    }\n",
       "\n",
       "    .dataframe thead th {\n",
       "        text-align: right;\n",
       "    }\n",
       "</style>\n",
       "<table border=\"1\" class=\"dataframe\">\n",
       "  <thead>\n",
       "    <tr style=\"text-align: right;\">\n",
       "      <th></th>\n",
       "      <th>age</th>\n",
       "      <th>gender</th>\n",
       "      <th>bmi</th>\n",
       "      <th>children</th>\n",
       "      <th>smoker</th>\n",
       "      <th>region</th>\n",
       "      <th>charges</th>\n",
       "    </tr>\n",
       "  </thead>\n",
       "  <tbody>\n",
       "    <tr>\n",
       "      <th>0</th>\n",
       "      <td>19</td>\n",
       "      <td>female</td>\n",
       "      <td>27.900</td>\n",
       "      <td>0</td>\n",
       "      <td>yes</td>\n",
       "      <td>southwest</td>\n",
       "      <td>16884.92400</td>\n",
       "    </tr>\n",
       "    <tr>\n",
       "      <th>1</th>\n",
       "      <td>18</td>\n",
       "      <td>male</td>\n",
       "      <td>33.770</td>\n",
       "      <td>1</td>\n",
       "      <td>no</td>\n",
       "      <td>southeast</td>\n",
       "      <td>1725.55230</td>\n",
       "    </tr>\n",
       "    <tr>\n",
       "      <th>2</th>\n",
       "      <td>28</td>\n",
       "      <td>male</td>\n",
       "      <td>33.000</td>\n",
       "      <td>3</td>\n",
       "      <td>no</td>\n",
       "      <td>southeast</td>\n",
       "      <td>4449.46200</td>\n",
       "    </tr>\n",
       "    <tr>\n",
       "      <th>3</th>\n",
       "      <td>33</td>\n",
       "      <td>male</td>\n",
       "      <td>22.705</td>\n",
       "      <td>0</td>\n",
       "      <td>no</td>\n",
       "      <td>northwest</td>\n",
       "      <td>21984.47061</td>\n",
       "    </tr>\n",
       "    <tr>\n",
       "      <th>4</th>\n",
       "      <td>32</td>\n",
       "      <td>male</td>\n",
       "      <td>28.880</td>\n",
       "      <td>0</td>\n",
       "      <td>no</td>\n",
       "      <td>northwest</td>\n",
       "      <td>3866.85520</td>\n",
       "    </tr>\n",
       "    <tr>\n",
       "      <th>5</th>\n",
       "      <td>31</td>\n",
       "      <td>female</td>\n",
       "      <td>25.740</td>\n",
       "      <td>0</td>\n",
       "      <td>no</td>\n",
       "      <td>southeast</td>\n",
       "      <td>3756.62160</td>\n",
       "    </tr>\n",
       "    <tr>\n",
       "      <th>6</th>\n",
       "      <td>46</td>\n",
       "      <td>female</td>\n",
       "      <td>33.440</td>\n",
       "      <td>1</td>\n",
       "      <td>no</td>\n",
       "      <td>southeast</td>\n",
       "      <td>8240.58960</td>\n",
       "    </tr>\n",
       "  </tbody>\n",
       "</table>\n",
       "</div>"
      ],
      "text/plain": [
       "   age  gender     bmi  children smoker     region      charges\n",
       "0   19  female  27.900         0    yes  southwest  16884.92400\n",
       "1   18    male  33.770         1     no  southeast   1725.55230\n",
       "2   28    male  33.000         3     no  southeast   4449.46200\n",
       "3   33    male  22.705         0     no  northwest  21984.47061\n",
       "4   32    male  28.880         0     no  northwest   3866.85520\n",
       "5   31  female  25.740         0     no  southeast   3756.62160\n",
       "6   46  female  33.440         1     no  southeast   8240.58960"
      ]
     },
     "execution_count": 8,
     "metadata": {},
     "output_type": "execute_result"
    }
   ],
   "source": [
    "data.head(7)"
   ]
  },
  {
   "cell_type": "code",
   "execution_count": 7,
   "id": "67eadab4",
   "metadata": {},
   "outputs": [
    {
     "data": {
      "application/vnd.microsoft.datawrangler.viewer.v0+json": {
       "columns": [
        {
         "name": "index",
         "rawType": "int64",
         "type": "integer"
        },
        {
         "name": "age",
         "rawType": "int64",
         "type": "integer"
        },
        {
         "name": "gender",
         "rawType": "object",
         "type": "string"
        },
        {
         "name": "bmi",
         "rawType": "float64",
         "type": "float"
        },
        {
         "name": "children",
         "rawType": "int64",
         "type": "integer"
        },
        {
         "name": "smoker",
         "rawType": "object",
         "type": "string"
        },
        {
         "name": "region",
         "rawType": "object",
         "type": "string"
        },
        {
         "name": "charges",
         "rawType": "float64",
         "type": "float"
        }
       ],
       "ref": "2d0bd1d1-7cac-4c45-b5c7-0a22a58022fd",
       "rows": [
        [
         "1333",
         "50",
         "male",
         "30.97",
         "3",
         "no",
         "northwest",
         "10600.5483"
        ],
        [
         "1334",
         "18",
         "female",
         "31.92",
         "0",
         "no",
         "northeast",
         "2205.9808"
        ],
        [
         "1335",
         "18",
         "female",
         "36.85",
         "0",
         "no",
         "southeast",
         "1629.8335"
        ],
        [
         "1336",
         "21",
         "female",
         "25.8",
         "0",
         "no",
         "southwest",
         "2007.945"
        ],
        [
         "1337",
         "61",
         "female",
         "29.07",
         "0",
         "yes",
         "northwest",
         "29141.3603"
        ]
       ],
       "shape": {
        "columns": 7,
        "rows": 5
       }
      },
      "text/html": [
       "<div>\n",
       "<style scoped>\n",
       "    .dataframe tbody tr th:only-of-type {\n",
       "        vertical-align: middle;\n",
       "    }\n",
       "\n",
       "    .dataframe tbody tr th {\n",
       "        vertical-align: top;\n",
       "    }\n",
       "\n",
       "    .dataframe thead th {\n",
       "        text-align: right;\n",
       "    }\n",
       "</style>\n",
       "<table border=\"1\" class=\"dataframe\">\n",
       "  <thead>\n",
       "    <tr style=\"text-align: right;\">\n",
       "      <th></th>\n",
       "      <th>age</th>\n",
       "      <th>gender</th>\n",
       "      <th>bmi</th>\n",
       "      <th>children</th>\n",
       "      <th>smoker</th>\n",
       "      <th>region</th>\n",
       "      <th>charges</th>\n",
       "    </tr>\n",
       "  </thead>\n",
       "  <tbody>\n",
       "    <tr>\n",
       "      <th>1333</th>\n",
       "      <td>50</td>\n",
       "      <td>male</td>\n",
       "      <td>30.97</td>\n",
       "      <td>3</td>\n",
       "      <td>no</td>\n",
       "      <td>northwest</td>\n",
       "      <td>10600.5483</td>\n",
       "    </tr>\n",
       "    <tr>\n",
       "      <th>1334</th>\n",
       "      <td>18</td>\n",
       "      <td>female</td>\n",
       "      <td>31.92</td>\n",
       "      <td>0</td>\n",
       "      <td>no</td>\n",
       "      <td>northeast</td>\n",
       "      <td>2205.9808</td>\n",
       "    </tr>\n",
       "    <tr>\n",
       "      <th>1335</th>\n",
       "      <td>18</td>\n",
       "      <td>female</td>\n",
       "      <td>36.85</td>\n",
       "      <td>0</td>\n",
       "      <td>no</td>\n",
       "      <td>southeast</td>\n",
       "      <td>1629.8335</td>\n",
       "    </tr>\n",
       "    <tr>\n",
       "      <th>1336</th>\n",
       "      <td>21</td>\n",
       "      <td>female</td>\n",
       "      <td>25.80</td>\n",
       "      <td>0</td>\n",
       "      <td>no</td>\n",
       "      <td>southwest</td>\n",
       "      <td>2007.9450</td>\n",
       "    </tr>\n",
       "    <tr>\n",
       "      <th>1337</th>\n",
       "      <td>61</td>\n",
       "      <td>female</td>\n",
       "      <td>29.07</td>\n",
       "      <td>0</td>\n",
       "      <td>yes</td>\n",
       "      <td>northwest</td>\n",
       "      <td>29141.3603</td>\n",
       "    </tr>\n",
       "  </tbody>\n",
       "</table>\n",
       "</div>"
      ],
      "text/plain": [
       "      age  gender    bmi  children smoker     region     charges\n",
       "1333   50    male  30.97         3     no  northwest  10600.5483\n",
       "1334   18  female  31.92         0     no  northeast   2205.9808\n",
       "1335   18  female  36.85         0     no  southeast   1629.8335\n",
       "1336   21  female  25.80         0     no  southwest   2007.9450\n",
       "1337   61  female  29.07         0    yes  northwest  29141.3603"
      ]
     },
     "execution_count": 7,
     "metadata": {},
     "output_type": "execute_result"
    }
   ],
   "source": [
    "data.tail()"
   ]
  },
  {
   "cell_type": "code",
   "execution_count": 9,
   "id": "d432b682",
   "metadata": {},
   "outputs": [
    {
     "data": {
      "application/vnd.microsoft.datawrangler.viewer.v0+json": {
       "columns": [
        {
         "name": "index",
         "rawType": "int64",
         "type": "integer"
        },
        {
         "name": "age",
         "rawType": "int64",
         "type": "integer"
        },
        {
         "name": "gender",
         "rawType": "object",
         "type": "string"
        },
        {
         "name": "bmi",
         "rawType": "float64",
         "type": "float"
        },
        {
         "name": "children",
         "rawType": "int64",
         "type": "integer"
        },
        {
         "name": "smoker",
         "rawType": "object",
         "type": "string"
        },
        {
         "name": "region",
         "rawType": "object",
         "type": "string"
        },
        {
         "name": "charges",
         "rawType": "float64",
         "type": "float"
        }
       ],
       "ref": "b9d17fb0-21d8-4708-883f-e2d5dbdcf15f",
       "rows": [
        [
         "60",
         "43",
         "male",
         "27.36",
         "3",
         "no",
         "northeast",
         "8606.2174"
        ]
       ],
       "shape": {
        "columns": 7,
        "rows": 1
       }
      },
      "text/html": [
       "<div>\n",
       "<style scoped>\n",
       "    .dataframe tbody tr th:only-of-type {\n",
       "        vertical-align: middle;\n",
       "    }\n",
       "\n",
       "    .dataframe tbody tr th {\n",
       "        vertical-align: top;\n",
       "    }\n",
       "\n",
       "    .dataframe thead th {\n",
       "        text-align: right;\n",
       "    }\n",
       "</style>\n",
       "<table border=\"1\" class=\"dataframe\">\n",
       "  <thead>\n",
       "    <tr style=\"text-align: right;\">\n",
       "      <th></th>\n",
       "      <th>age</th>\n",
       "      <th>gender</th>\n",
       "      <th>bmi</th>\n",
       "      <th>children</th>\n",
       "      <th>smoker</th>\n",
       "      <th>region</th>\n",
       "      <th>charges</th>\n",
       "    </tr>\n",
       "  </thead>\n",
       "  <tbody>\n",
       "    <tr>\n",
       "      <th>60</th>\n",
       "      <td>43</td>\n",
       "      <td>male</td>\n",
       "      <td>27.36</td>\n",
       "      <td>3</td>\n",
       "      <td>no</td>\n",
       "      <td>northeast</td>\n",
       "      <td>8606.2174</td>\n",
       "    </tr>\n",
       "  </tbody>\n",
       "</table>\n",
       "</div>"
      ],
      "text/plain": [
       "    age gender    bmi  children smoker     region    charges\n",
       "60   43   male  27.36         3     no  northeast  8606.2174"
      ]
     },
     "execution_count": 9,
     "metadata": {},
     "output_type": "execute_result"
    }
   ],
   "source": [
    "data.sample()"
   ]
  },
  {
   "cell_type": "code",
   "execution_count": 10,
   "id": "ba4de744",
   "metadata": {},
   "outputs": [
    {
     "name": "stdout",
     "output_type": "stream",
     "text": [
      "<class 'pandas.core.frame.DataFrame'>\n",
      "RangeIndex: 1338 entries, 0 to 1337\n",
      "Data columns (total 7 columns):\n",
      " #   Column    Non-Null Count  Dtype  \n",
      "---  ------    --------------  -----  \n",
      " 0   age       1338 non-null   int64  \n",
      " 1   gender    1338 non-null   object \n",
      " 2   bmi       1335 non-null   float64\n",
      " 3   children  1338 non-null   int64  \n",
      " 4   smoker    1338 non-null   object \n",
      " 5   region    1338 non-null   object \n",
      " 6   charges   1338 non-null   float64\n",
      "dtypes: float64(2), int64(2), object(3)\n",
      "memory usage: 73.3+ KB\n"
     ]
    }
   ],
   "source": [
    "data.info()"
   ]
  },
  {
   "cell_type": "code",
   "execution_count": 12,
   "id": "84b3209b",
   "metadata": {},
   "outputs": [
    {
     "data": {
      "application/vnd.microsoft.datawrangler.viewer.v0+json": {
       "columns": [
        {
         "name": "index",
         "rawType": "object",
         "type": "string"
        },
        {
         "name": "age",
         "rawType": "float64",
         "type": "float"
        },
        {
         "name": "bmi",
         "rawType": "float64",
         "type": "float"
        },
        {
         "name": "children",
         "rawType": "float64",
         "type": "float"
        },
        {
         "name": "charges",
         "rawType": "float64",
         "type": "float"
        }
       ],
       "ref": "f7afa5ff-0a18-4a74-8a48-809e9f3c7c3d",
       "rows": [
        [
         "count",
         "1338.0",
         "1335.0",
         "1338.0",
         "1338.0"
        ],
        [
         "mean",
         "39.21",
         "30.66",
         "1.09",
         "13270.42"
        ],
        [
         "std",
         "14.05",
         "6.1",
         "1.21",
         "12110.01"
        ],
        [
         "min",
         "18.0",
         "15.96",
         "0.0",
         "1121.87"
        ],
        [
         "25%",
         "27.0",
         "26.3",
         "0.0",
         "4740.29"
        ],
        [
         "50%",
         "39.0",
         "30.4",
         "1.0",
         "9382.03"
        ],
        [
         "75%",
         "51.0",
         "34.69",
         "2.0",
         "16639.91"
        ],
        [
         "max",
         "64.0",
         "53.13",
         "5.0",
         "63770.43"
        ]
       ],
       "shape": {
        "columns": 4,
        "rows": 8
       }
      },
      "text/html": [
       "<div>\n",
       "<style scoped>\n",
       "    .dataframe tbody tr th:only-of-type {\n",
       "        vertical-align: middle;\n",
       "    }\n",
       "\n",
       "    .dataframe tbody tr th {\n",
       "        vertical-align: top;\n",
       "    }\n",
       "\n",
       "    .dataframe thead th {\n",
       "        text-align: right;\n",
       "    }\n",
       "</style>\n",
       "<table border=\"1\" class=\"dataframe\">\n",
       "  <thead>\n",
       "    <tr style=\"text-align: right;\">\n",
       "      <th></th>\n",
       "      <th>age</th>\n",
       "      <th>bmi</th>\n",
       "      <th>children</th>\n",
       "      <th>charges</th>\n",
       "    </tr>\n",
       "  </thead>\n",
       "  <tbody>\n",
       "    <tr>\n",
       "      <th>count</th>\n",
       "      <td>1338.00</td>\n",
       "      <td>1335.00</td>\n",
       "      <td>1338.00</td>\n",
       "      <td>1338.00</td>\n",
       "    </tr>\n",
       "    <tr>\n",
       "      <th>mean</th>\n",
       "      <td>39.21</td>\n",
       "      <td>30.66</td>\n",
       "      <td>1.09</td>\n",
       "      <td>13270.42</td>\n",
       "    </tr>\n",
       "    <tr>\n",
       "      <th>std</th>\n",
       "      <td>14.05</td>\n",
       "      <td>6.10</td>\n",
       "      <td>1.21</td>\n",
       "      <td>12110.01</td>\n",
       "    </tr>\n",
       "    <tr>\n",
       "      <th>min</th>\n",
       "      <td>18.00</td>\n",
       "      <td>15.96</td>\n",
       "      <td>0.00</td>\n",
       "      <td>1121.87</td>\n",
       "    </tr>\n",
       "    <tr>\n",
       "      <th>25%</th>\n",
       "      <td>27.00</td>\n",
       "      <td>26.30</td>\n",
       "      <td>0.00</td>\n",
       "      <td>4740.29</td>\n",
       "    </tr>\n",
       "    <tr>\n",
       "      <th>50%</th>\n",
       "      <td>39.00</td>\n",
       "      <td>30.40</td>\n",
       "      <td>1.00</td>\n",
       "      <td>9382.03</td>\n",
       "    </tr>\n",
       "    <tr>\n",
       "      <th>75%</th>\n",
       "      <td>51.00</td>\n",
       "      <td>34.69</td>\n",
       "      <td>2.00</td>\n",
       "      <td>16639.91</td>\n",
       "    </tr>\n",
       "    <tr>\n",
       "      <th>max</th>\n",
       "      <td>64.00</td>\n",
       "      <td>53.13</td>\n",
       "      <td>5.00</td>\n",
       "      <td>63770.43</td>\n",
       "    </tr>\n",
       "  </tbody>\n",
       "</table>\n",
       "</div>"
      ],
      "text/plain": [
       "           age      bmi  children   charges\n",
       "count  1338.00  1335.00   1338.00   1338.00\n",
       "mean     39.21    30.66      1.09  13270.42\n",
       "std      14.05     6.10      1.21  12110.01\n",
       "min      18.00    15.96      0.00   1121.87\n",
       "25%      27.00    26.30      0.00   4740.29\n",
       "50%      39.00    30.40      1.00   9382.03\n",
       "75%      51.00    34.69      2.00  16639.91\n",
       "max      64.00    53.13      5.00  63770.43"
      ]
     },
     "execution_count": 12,
     "metadata": {},
     "output_type": "execute_result"
    }
   ],
   "source": [
    "data.describe().round(2)"
   ]
  },
  {
   "cell_type": "code",
   "execution_count": 13,
   "id": "d1530399",
   "metadata": {},
   "outputs": [
    {
     "data": {
      "application/vnd.microsoft.datawrangler.viewer.v0+json": {
       "columns": [
        {
         "name": "index",
         "rawType": "object",
         "type": "string"
        },
        {
         "name": "0",
         "rawType": "int64",
         "type": "integer"
        }
       ],
       "ref": "f03c92a1-c396-474a-9796-1f60043857bb",
       "rows": [
        [
         "age",
         "0"
        ],
        [
         "gender",
         "0"
        ],
        [
         "bmi",
         "3"
        ],
        [
         "children",
         "0"
        ],
        [
         "smoker",
         "0"
        ],
        [
         "region",
         "0"
        ],
        [
         "charges",
         "0"
        ]
       ],
       "shape": {
        "columns": 1,
        "rows": 7
       }
      },
      "text/plain": [
       "age         0\n",
       "gender      0\n",
       "bmi         3\n",
       "children    0\n",
       "smoker      0\n",
       "region      0\n",
       "charges     0\n",
       "dtype: int64"
      ]
     },
     "execution_count": 13,
     "metadata": {},
     "output_type": "execute_result"
    }
   ],
   "source": [
    "data.isnull().sum()"
   ]
  },
  {
   "cell_type": "code",
   "execution_count": 15,
   "id": "7e65f942",
   "metadata": {},
   "outputs": [
    {
     "data": {
      "application/vnd.microsoft.datawrangler.viewer.v0+json": {
       "columns": [
        {
         "name": "gender",
         "rawType": "object",
         "type": "string"
        },
        {
         "name": "count",
         "rawType": "int64",
         "type": "integer"
        }
       ],
       "ref": "2cd0243f-f7a7-49f0-9c5c-c815873b6be7",
       "rows": [
        [
         "male",
         "676"
        ],
        [
         "female",
         "662"
        ]
       ],
       "shape": {
        "columns": 1,
        "rows": 2
       }
      },
      "text/plain": [
       "gender\n",
       "male      676\n",
       "female    662\n",
       "Name: count, dtype: int64"
      ]
     },
     "execution_count": 15,
     "metadata": {},
     "output_type": "execute_result"
    }
   ],
   "source": [
    "data['gender'].value_counts()"
   ]
  },
  {
   "cell_type": "code",
   "execution_count": null,
   "id": "c9d7e33d",
   "metadata": {},
   "outputs": [
    {
     "data": {
      "application/vnd.microsoft.datawrangler.viewer.v0+json": {
       "columns": [
        {
         "name": "age",
         "rawType": "int64",
         "type": "integer"
        },
        {
         "name": "count",
         "rawType": "int64",
         "type": "integer"
        }
       ],
       "ref": "42a6454f-388a-4c6f-81f9-e65b01ab3dc7",
       "rows": [
        [
         "18",
         "69"
        ],
        [
         "19",
         "68"
        ],
        [
         "50",
         "29"
        ],
        [
         "51",
         "29"
        ],
        [
         "47",
         "29"
        ],
        [
         "46",
         "29"
        ],
        [
         "45",
         "29"
        ],
        [
         "20",
         "29"
        ],
        [
         "48",
         "29"
        ],
        [
         "52",
         "29"
        ],
        [
         "22",
         "28"
        ],
        [
         "49",
         "28"
        ],
        [
         "54",
         "28"
        ],
        [
         "53",
         "28"
        ],
        [
         "21",
         "28"
        ],
        [
         "26",
         "28"
        ],
        [
         "24",
         "28"
        ],
        [
         "25",
         "28"
        ],
        [
         "28",
         "28"
        ],
        [
         "27",
         "28"
        ],
        [
         "23",
         "28"
        ],
        [
         "43",
         "27"
        ],
        [
         "29",
         "27"
        ],
        [
         "30",
         "27"
        ],
        [
         "41",
         "27"
        ],
        [
         "42",
         "27"
        ],
        [
         "44",
         "27"
        ],
        [
         "31",
         "27"
        ],
        [
         "40",
         "27"
        ],
        [
         "32",
         "26"
        ],
        [
         "33",
         "26"
        ],
        [
         "56",
         "26"
        ],
        [
         "34",
         "26"
        ],
        [
         "55",
         "26"
        ],
        [
         "57",
         "26"
        ],
        [
         "37",
         "25"
        ],
        [
         "59",
         "25"
        ],
        [
         "58",
         "25"
        ],
        [
         "36",
         "25"
        ],
        [
         "38",
         "25"
        ],
        [
         "35",
         "25"
        ],
        [
         "39",
         "25"
        ],
        [
         "61",
         "23"
        ],
        [
         "60",
         "23"
        ],
        [
         "63",
         "23"
        ],
        [
         "62",
         "23"
        ],
        [
         "64",
         "22"
        ]
       ],
       "shape": {
        "columns": 1,
        "rows": 47
       }
      },
      "text/plain": [
       "age\n",
       "18    69\n",
       "19    68\n",
       "50    29\n",
       "51    29\n",
       "47    29\n",
       "46    29\n",
       "45    29\n",
       "20    29\n",
       "48    29\n",
       "52    29\n",
       "22    28\n",
       "49    28\n",
       "54    28\n",
       "53    28\n",
       "21    28\n",
       "26    28\n",
       "24    28\n",
       "25    28\n",
       "28    28\n",
       "27    28\n",
       "23    28\n",
       "43    27\n",
       "29    27\n",
       "30    27\n",
       "41    27\n",
       "42    27\n",
       "44    27\n",
       "31    27\n",
       "40    27\n",
       "32    26\n",
       "33    26\n",
       "56    26\n",
       "34    26\n",
       "55    26\n",
       "57    26\n",
       "37    25\n",
       "59    25\n",
       "58    25\n",
       "36    25\n",
       "38    25\n",
       "35    25\n",
       "39    25\n",
       "61    23\n",
       "60    23\n",
       "63    23\n",
       "62    23\n",
       "64    22\n",
       "Name: count, dtype: int64"
      ]
     },
     "execution_count": 16,
     "metadata": {},
     "output_type": "execute_result"
    }
   ],
   "source": [
    "data[\"age\"].value_counts()"
   ]
  },
  {
   "cell_type": "code",
   "execution_count": 17,
   "id": "171888c2",
   "metadata": {},
   "outputs": [
    {
     "data": {
      "application/vnd.microsoft.datawrangler.viewer.v0+json": {
       "columns": [
        {
         "name": "smoker",
         "rawType": "object",
         "type": "string"
        },
        {
         "name": "count",
         "rawType": "int64",
         "type": "integer"
        }
       ],
       "ref": "93eccdcf-f328-4ce6-8afa-0c3229f334e2",
       "rows": [
        [
         "no",
         "1064"
        ],
        [
         "yes",
         "274"
        ]
       ],
       "shape": {
        "columns": 1,
        "rows": 2
       }
      },
      "text/plain": [
       "smoker\n",
       "no     1064\n",
       "yes     274\n",
       "Name: count, dtype: int64"
      ]
     },
     "execution_count": 17,
     "metadata": {},
     "output_type": "execute_result"
    }
   ],
   "source": [
    "data[\"smoker\"].value_counts()"
   ]
  },
  {
   "cell_type": "code",
   "execution_count": null,
   "id": "0db3baf9",
   "metadata": {},
   "outputs": [
    {
     "name": "stdout",
     "output_type": "stream",
     "text": [
      "<pandas.core.indexing._LocIndexer object at 0x0000020E3148DCB0>\n"
     ]
    },
    {
     "data": {
      "text/plain": [
       "Index(['age', 'gender', 'children', 'smoker', 'region', 'charges'], dtype='object')"
      ]
     },
     "execution_count": 22,
     "metadata": {},
     "output_type": "execute_result"
    }
   ],
   "source": [
    "# access row\n",
    "row2 = data.loc(1)\n",
    "print(row2)\n",
    "# access column\n",
    "\n",
    "# drop column\n",
    "data.drop(columns=[\"bmi\"], axis=1, inplace=True)\n",
    "data.columns\n",
    "\n",
    "# drop row\n",
    "# data.drop(1)\n"
   ]
  },
  {
   "cell_type": "markdown",
   "id": "282bcfe3",
   "metadata": {},
   "source": [
    "# 3. Processing/Cleaning Data"
   ]
  },
  {
   "cell_type": "code",
   "execution_count": null,
   "id": "e32c770c",
   "metadata": {},
   "outputs": [],
   "source": [
    "# 0. Drop missing values\n",
    "# 1. Fill missing (null/na/NaN) values\n",
    "# 2. Renaming columns\n",
    "# 3. Clean outliers or incorrect values"
   ]
  },
  {
   "cell_type": "code",
   "execution_count": null,
   "id": "bd3f1139",
   "metadata": {},
   "outputs": [],
   "source": [
    "# 0. drop missing values\n",
    "\n",
    "data.dropna(axis=0, inplace=True) # drop all rows that has at least 1 null value\n",
    "# data.dropna(axis=1) # drop all columns that has at least 1 null value"
   ]
  },
  {
   "cell_type": "code",
   "execution_count": null,
   "id": "7a0e6778",
   "metadata": {},
   "outputs": [],
   "source": [
    "# 1. Fill missing (NaN) values\n",
    "data[\"smoker\"] = data[\"smoker\"].fillna(\"maybe\")  # for text\n",
    "data[\"numeric_col\"] = data[\"numeric_col\"].fillna(data[\"numeric_col\"].mean())  # for numbers, average value\n",
    "data[\"numeric_col\"] = data[\"numeric_col\"].fillna(data[\"numeric_col\"].median())  # for numbers, median value\n",
    "data[\"numeric_col\"] = data[\"numeric_col\"].fillna(data[\"numeric_col\"].mode())  # for numbers, most frequent value\n",
    "\n",
    "# Optional: Fill all NaNs at once\n",
    "# data = data.fillna(method='ffill')   # forward fill; Filled with value from row (i-1)\n",
    "# data.fillna(method=\"bfill\")          # Uses the next valid value from below\n",
    "# data = data.fillna(0)                # fill all with zero"
   ]
  },
  {
   "cell_type": "code",
   "execution_count": null,
   "id": "e0d4a2d6",
   "metadata": {},
   "outputs": [],
   "source": [
    "# 2. Rename columns\n",
    "data = data.rename(columns={\"Old Name 1\": \"new_name_1\", \"Old Name 2\": \"new_name_2\"})"
   ]
  },
  {
   "cell_type": "code",
   "execution_count": null,
   "id": "c36f20b3",
   "metadata": {},
   "outputs": [],
   "source": [
    "# 3. Remove outliers or false data\n",
    "\n",
    "# Example: Remove rows where 'age' is negative or unrealistically high\n",
    "data = data[(data[\"age\"] >= 0) & (data[\"age\"] <= 100)]\n",
    "\n",
    "# Example: Drop rows with sales over 1 million (possible data error)\n",
    "data = data[data[\"sales\"] < 1_000_000]\n",
    "\n",
    "# Optional: Use z-score or IQR to detect statistical outliers\n",
    "from scipy import stats\n",
    "\n",
    "z_scores = stats.zscore(data[\"numeric_col\"])\n",
    "data = data[(z_scores > -3) & (z_scores < 3)]  # Keep within ±3 std dev"
   ]
  },
  {
   "cell_type": "markdown",
   "id": "06efce22",
   "metadata": {},
   "source": [
    "# 4. Visualization"
   ]
  },
  {
   "cell_type": "markdown",
   "id": "d913dc86",
   "metadata": {},
   "source": [
    "📊 1. Line Plot\n",
    "\n",
    "Purpose: Show trends over time or ordered categories (e.g., sales over months)"
   ]
  },
  {
   "cell_type": "code",
   "execution_count": 24,
   "id": "d8e8b7b0",
   "metadata": {},
   "outputs": [],
   "source": [
    "import pandas as pd\n",
    "import matplotlib.pyplot as plt"
   ]
  },
  {
   "cell_type": "code",
   "execution_count": null,
   "id": "87c6ade3",
   "metadata": {},
   "outputs": [],
   "source": [
    "df = pd.read_csv(\"sales.csv\")  # contains 'Month' and 'Revenue' columns\n",
    "\n",
    "plt.plot(df[\"Month\"], df[\"Revenue\"])\n",
    "plt.title(\"Monthly Revenue\")\n",
    "plt.xlabel(\"Month\")\n",
    "plt.ylabel(\"Revenue ($)\")\n",
    "plt.grid(True)\n",
    "plt.show()"
   ]
  },
  {
   "cell_type": "code",
   "execution_count": null,
   "id": "bfff771f",
   "metadata": {},
   "outputs": [],
   "source": [
    "# optional styles:\n",
    "\n",
    "print(plt.style.available)\n",
    "plt.style.use(\"ggplot\")  # Apply ggplot-like style globally"
   ]
  },
  {
   "cell_type": "markdown",
   "id": "a6620d18",
   "metadata": {},
   "source": [
    "📈 2. Bar Chart\n",
    "\n",
    "\n",
    "Purpose: Compare values across categories (e.g., sales by region)"
   ]
  },
  {
   "cell_type": "code",
   "execution_count": 26,
   "id": "cb953614",
   "metadata": {},
   "outputs": [
    {
     "data": {
      "image/png": "[encoded data removed]",
      "text/plain": [
       "<Figure size 640x480 with 1 Axes>"
      ]
     },
     "metadata": {},
     "output_type": "display_data"
    }
   ],
   "source": [
    "regions = [\"North\", \"South\", \"East\", \"West\"]\n",
    "sales = [150, 200, 170, 120]\n",
    "\n",
    "plt.bar(regions, sales, color=\"skyblue\")\n",
    "plt.title(\"Sales by Region\")\n",
    "plt.xlabel(\"Region\")\n",
    "plt.ylabel(\"Sales\")\n",
    "plt.show()"
   ]
  },
  {
   "cell_type": "markdown",
   "id": "81b00935",
   "metadata": {},
   "source": [
    "📉 3. Histogram\n",
    "\n",
    "Purpose: Show distribution of numerical values (e.g., age or income)\n"
   ]
  },
  {
   "cell_type": "code",
   "execution_count": 27,
   "id": "60e53105",
   "metadata": {},
   "outputs": [
    {
     "data": {
      "image/png": "[encoded data removed]",
      "text/plain": [
       "<Figure size 640x480 with 1 Axes>"
      ]
     },
     "metadata": {},
     "output_type": "display_data"
    }
   ],
   "source": [
    "ages = [22, 25, 29, 31, 25, 23, 24, 35, 36, 30, 40, 41]\n",
    "\n",
    "plt.hist(ages, bins=5, color=\"orange\", edgecolor=\"black\")\n",
    "plt.title(\"Age Distribution\")\n",
    "plt.xlabel(\"Age\")\n",
    "plt.ylabel(\"Count\")\n",
    "plt.show()"
   ]
  },
  {
   "cell_type": "markdown",
   "id": "96cff5c1",
   "metadata": {},
   "source": [
    "🥧 4. Pie Chart\n",
    "\n",
    "Purpose: Show proportion or percentage of categories"
   ]
  },
  {
   "cell_type": "code",
   "execution_count": 25,
   "id": "d89245b1",
   "metadata": {},
   "outputs": [
    {
     "data": {
      "image/png": "[encoded data removed]",
      "text/plain": [
       "<Figure size 640x480 with 1 Axes>"
      ]
     },
     "metadata": {},
     "output_type": "display_data"
    }
   ],
   "source": [
    "labels = [\"Apples\", \"Bananas\", \"Cherries\", \"Dates\"]\n",
    "sizes = [30, 25, 25, 20]\n",
    "\n",
    "plt.pie(sizes, labels=labels, autopct=\"%1.1f%%\", startangle=90)\n",
    "plt.title(\"Fruit Sales Share\")\n",
    "plt.axis(\"equal\")  # Keep circle shape\n",
    "plt.show()"
   ]
  },
  {
   "cell_type": "markdown",
   "id": "08cce638",
   "metadata": {},
   "source": [
    "🧪 5. Scatter Plot\n",
    "\n",
    "Purpose: Visualize correlation between two numeric variables"
   ]
  },
  {
   "cell_type": "code",
   "execution_count": 28,
   "id": "f76d6082",
   "metadata": {},
   "outputs": [
    {
     "data": {
      "image/png": "[encoded data removed]",
      "text/plain": [
       "<Figure size 640x480 with 1 Axes>"
      ]
     },
     "metadata": {},
     "output_type": "display_data"
    }
   ],
   "source": [
    "import numpy as np\n",
    "\n",
    "# Example data: height vs weight\n",
    "height = [160, 165, 170, 175, 180, 185]\n",
    "weight = [55, 60, 65, 72, 78, 85]\n",
    "\n",
    "plt.scatter(height, weight, color=\"green\")\n",
    "plt.title(\"Height vs Weight\")\n",
    "plt.xlabel(\"Height (cm)\")\n",
    "plt.ylabel(\"Weight (kg)\")\n",
    "plt.grid(True)\n",
    "plt.show()"
   ]
  }
 ],
 "metadata": {
  "kernelspec": {
   "display_name": "base",
   "language": "python",
   "name": "python3"
  },
  "language_info": {
   "codemirror_mode": {
    "name": "ipython",
    "version": 3
   },
   "file_extension": ".py",
   "mimetype": "text/x-python",
   "name": "python",
   "nbconvert_exporter": "python",
   "pygments_lexer": "ipython3",
   "version": "3.10.12"
  }
 },
 "nbformat": 4,
 "nbformat_minor": 5
}
