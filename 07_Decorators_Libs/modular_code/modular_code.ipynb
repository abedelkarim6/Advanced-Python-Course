{
 "cells": [
  {
   "cell_type": "code",
   "execution_count": null,
   "id": "7dface38",
   "metadata": {},
   "outputs": [],
   "source": [
    "# 1- Functions as Building Blocks, not just direct use of code\n",
    "\n",
    "def validate_email(email):\n",
    "    return \"@\" in email\n",
    "\n",
    "def save_to_db(user):\n",
    "    print(f\"Saved {user} to database\")\n",
    "\n",
    "def register_user(name, email):\n",
    "    if validate_email(email):\n",
    "        save_to_db({\"name\": name, \"email\": email})\n"
   ]
  },
  {
   "cell_type": "code",
   "execution_count": 1,
   "id": "beddc1af",
   "metadata": {},
   "outputs": [
    {
     "name": "stdout",
     "output_type": "stream",
     "text": [
      "Activated Abed\n",
      "Saved Abed to DB\n",
      "User activated and saved to db\n"
     ]
    }
   ],
   "source": [
    "# 2- Classes and Object-Oriented Design\n",
    "\n",
    "class User:\n",
    "    def __init__(self, name, email):\n",
    "        self.name = name\n",
    "        self.email = email\n",
    "        self.active = False\n",
    "\n",
    "    def save(self):\n",
    "        print(f\"Saved {self.name} to DB\")\n",
    "\n",
    "    def activate(self):\n",
    "        self.active = True\n",
    "        print(f\"Activated {self.name}\")\n",
    "        \n",
    "    def validate_email(self):\n",
    "        return \"@gmail.com\" in self.email    \n",
    "    \n",
    "user_1 = User(\"Abed\", \"abed@gmail.com\")\n",
    "if user_1.validate_email():\n",
    "    user_1.activate()\n",
    "    user_1.save()\n",
    "    print(\"User activated and saved to db\")"
   ]
  },
  {
   "cell_type": "code",
   "execution_count": null,
   "id": "68fbae65",
   "metadata": {},
   "outputs": [],
   "source": [
    "# 3- Using Modules and import\n",
    "\n",
    "\n",
    "# utils.py\n",
    "def format_text(text):\n",
    "    return text.upper()\n",
    "\n",
    "\n",
    "# main.py\n",
    "from utils import format_text\n",
    "\n",
    "print(format_text(\"hello\"))"
   ]
  },
  {
   "cell_type": "code",
   "execution_count": 1,
   "id": "5dc1f596",
   "metadata": {},
   "outputs": [
    {
     "name": "stdout",
     "output_type": "stream",
     "text": [
      "Connecting to database users.db at localhost\n"
     ]
    }
   ],
   "source": [
    "# 4- Parameters and Config Files\n",
    "\n",
    "# # config.py\n",
    "# DB_NAME = \"users.db\"\n",
    "# DB_HOST = \"localhost\"\n",
    "# DB_PORT = 5432\n",
    "# DEBUG_MODE = True\n",
    "\n",
    "from config import DB_NAME, DB_HOST\n",
    "\n",
    "print(f\"Connecting to database {DB_NAME} at {DB_HOST}\")"
   ]
  },
  {
   "cell_type": "code",
   "execution_count": 2,
   "id": "e4e33283",
   "metadata": {},
   "outputs": [
    {
     "name": "stdout",
     "output_type": "stream",
     "text": [
      "Max login attempts: 5\n",
      "Timeout duration: 300 seconds\n"
     ]
    }
   ],
   "source": [
    "# 5- Avoid Hardcoding & Use Constants (opposite to config variables, these are unchangeable)\n",
    "\n",
    "# constants.py\n",
    "\n",
    "# main.py\n",
    "from constants import MAX_LOGIN_ATTEMPTS, TIMEOUT_DURATION\n",
    "print(f\"Max login attempts: {MAX_LOGIN_ATTEMPTS}\")\n",
    "print(f\"Timeout duration: {TIMEOUT_DURATION} seconds\")"
   ]
  }
 ],
 "metadata": {
  "kernelspec": {
   "display_name": "base",
   "language": "python",
   "name": "python3"
  },
  "language_info": {
   "codemirror_mode": {
    "name": "ipython",
    "version": 3
   },
   "file_extension": ".py",
   "mimetype": "text/x-python",
   "name": "python",
   "nbconvert_exporter": "python",
   "pygments_lexer": "ipython3",
   "version": "3.10.12"
  }
 },
 "nbformat": 4,
 "nbformat_minor": 5
}
