{
 "cells": [
  {
   "cell_type": "markdown",
   "id": "b48052be",
   "metadata": {},
   "source": [
    "# 🖼️ 1. Reading an Image in OpenCV"
   ]
  },
  {
   "cell_type": "code",
   "execution_count": 2,
   "id": "813fcb01",
   "metadata": {},
   "outputs": [
    {
     "name": "stdout",
     "output_type": "stream",
     "text": [
      "Image shape: (183, 275, 3)\n"
     ]
    }
   ],
   "source": [
    "import cv2\n",
    "\n",
    "# Read the image\n",
    "img_bgr = cv2.imread(\"data/carrots.jpg\") # loads the image as a NumPy array in BGR format (not RGB).\n",
    "img_rgb = cv2.imread(\"data/carrots.jpg\", cv2.IMREAD_COLOR_RGB) \n",
    "\n",
    "# Check if the image was loaded\n",
    "if img_rgb is None:\n",
    "    print(\"Failed to load image.\")\n",
    "else:\n",
    "    print(\"Image shape:\", img_rgb.shape)  # (height, width, channels)"
   ]
  },
  {
   "cell_type": "code",
   "execution_count": 3,
   "id": "3309e9c4",
   "metadata": {},
   "outputs": [
    {
     "data": {
      "text/plain": [
       "array([[[121, 117,  92],\n",
       "        [122, 118,  91],\n",
       "        [124, 120,  93],\n",
       "        ...,\n",
       "        [ 49,  43,  29],\n",
       "        [ 49,  43,  27],\n",
       "        [ 49,  43,  27]],\n",
       "\n",
       "       [[132, 128, 103],\n",
       "        [133, 129, 102],\n",
       "        [134, 130, 103],\n",
       "        ...,\n",
       "        [ 50,  44,  30],\n",
       "        [ 49,  43,  27],\n",
       "        [ 49,  43,  27]],\n",
       "\n",
       "       [[147, 143, 118],\n",
       "        [148, 144, 117],\n",
       "        [149, 145, 118],\n",
       "        ...,\n",
       "        [ 50,  44,  30],\n",
       "        [ 50,  44,  28],\n",
       "        [ 50,  44,  28]],\n",
       "\n",
       "       ...,\n",
       "\n",
       "       [[ 71,  93,  47],\n",
       "        [ 63,  85,  39],\n",
       "        [ 51,  73,  27],\n",
       "        ...,\n",
       "        [ 56,  63,  29],\n",
       "        [ 56,  63,  29],\n",
       "        [ 57,  64,  30]],\n",
       "\n",
       "       [[ 68,  90,  44],\n",
       "        [ 64,  86,  40],\n",
       "        [ 53,  75,  29],\n",
       "        ...,\n",
       "        [ 57,  64,  30],\n",
       "        [ 57,  64,  30],\n",
       "        [ 57,  64,  30]],\n",
       "\n",
       "       [[ 63,  85,  39],\n",
       "        [ 64,  86,  40],\n",
       "        [ 55,  77,  31],\n",
       "        ...,\n",
       "        [ 57,  64,  30],\n",
       "        [ 58,  65,  31],\n",
       "        [ 58,  65,  31]]], dtype=uint8)"
      ]
     },
     "execution_count": 3,
     "metadata": {},
     "output_type": "execute_result"
    }
   ],
   "source": [
    "img_rgb"
   ]
  },
  {
   "cell_type": "markdown",
   "id": "7485e6d3",
   "metadata": {},
   "source": [
    "# 🔍 2. Display Image (in a Window)"
   ]
  },
  {
   "cell_type": "code",
   "execution_count": 4,
   "id": "3ae39d53",
   "metadata": {},
   "outputs": [],
   "source": [
    "cv2.imshow(\"My Image\", img_rgb)\n",
    "cv2.waitKey(0)  # Wait until a key is pressed\n",
    "cv2.destroyAllWindows()"
   ]
  },
  {
   "cell_type": "markdown",
   "id": "c762d9d9",
   "metadata": {},
   "source": [
    "# 🔄 3. Convert Color Spaces"
   ]
  },
  {
   "cell_type": "code",
   "execution_count": 5,
   "id": "c175144c",
   "metadata": {},
   "outputs": [],
   "source": [
    "img = cv2.imread(\"data/carrots.jpg\") #BGR"
   ]
  },
  {
   "cell_type": "code",
   "execution_count": null,
   "id": "b4c56ffa",
   "metadata": {},
   "outputs": [],
   "source": [
    "# Convert BGR to Grayscale\n",
    "gray = cv2.cvtColor(img, cv2.COLOR_BGR2GRAY)\n",
    "\n",
    "# Convert BGR to RGB (for matplotlib)\n",
    "rgb = cv2.cvtColor(img, cv2.COLOR_BGR2RGB)"
   ]
  },
  {
   "cell_type": "markdown",
   "id": "304f0c46",
   "metadata": {},
   "source": [
    "# 🖼️ 4. Resize Image"
   ]
  },
  {
   "cell_type": "code",
   "execution_count": null,
   "id": "5b1ea3d2",
   "metadata": {},
   "outputs": [],
   "source": [
    "resized = cv2.resize(img, (300, 300))  # (width, height)"
   ]
  },
  {
   "cell_type": "markdown",
   "id": "d48bae1c",
   "metadata": {},
   "source": [
    "# ✂️ 5. Crop an Image"
   ]
  },
  {
   "cell_type": "code",
   "execution_count": null,
   "id": "42fc3ef6",
   "metadata": {},
   "outputs": [],
   "source": [
    "cropped = img[100:300, 200:400]  # img[y1:y2, x1:x2]"
   ]
  },
  {
   "cell_type": "markdown",
   "id": "803ff3dc",
   "metadata": {},
   "source": [
    "# 📈 6. Draw on an Image"
   ]
  },
  {
   "cell_type": "code",
   "execution_count": 9,
   "id": "1a065a7a",
   "metadata": {},
   "outputs": [
    {
     "data": {
      "text/plain": [
       "array([[[ 92, 117, 121],\n",
       "        [ 91, 118, 122],\n",
       "        [ 93, 120, 124],\n",
       "        ...,\n",
       "        [ 29,  43,  49],\n",
       "        [ 27,  43,  49],\n",
       "        [ 27,  43,  49]],\n",
       "\n",
       "       [[103, 128, 132],\n",
       "        [102, 129, 133],\n",
       "        [103, 130, 134],\n",
       "        ...,\n",
       "        [ 30,  44,  50],\n",
       "        [ 27,  43,  49],\n",
       "        [ 27,  43,  49]],\n",
       "\n",
       "       [[118, 143, 147],\n",
       "        [117, 144, 148],\n",
       "        [118, 145, 149],\n",
       "        ...,\n",
       "        [ 30,  44,  50],\n",
       "        [ 28,  44,  50],\n",
       "        [ 28,  44,  50]],\n",
       "\n",
       "       ...,\n",
       "\n",
       "       [[ 47,  93,  71],\n",
       "        [ 39,  85,  63],\n",
       "        [ 27,  73,  51],\n",
       "        ...,\n",
       "        [ 29,  63,  56],\n",
       "        [ 29,  63,  56],\n",
       "        [ 30,  64,  57]],\n",
       "\n",
       "       [[ 44,  90,  68],\n",
       "        [ 40,  86,  64],\n",
       "        [ 29,  75,  53],\n",
       "        ...,\n",
       "        [ 30,  64,  57],\n",
       "        [ 30,  64,  57],\n",
       "        [ 30,  64,  57]],\n",
       "\n",
       "       [[ 39,  85,  63],\n",
       "        [ 40,  86,  64],\n",
       "        [ 31,  77,  55],\n",
       "        ...,\n",
       "        [ 30,  64,  57],\n",
       "        [ 31,  65,  58],\n",
       "        [ 31,  65,  58]]], dtype=uint8)"
      ]
     },
     "execution_count": 9,
     "metadata": {},
     "output_type": "execute_result"
    }
   ],
   "source": [
    "# Draw a red rectangle\n",
    "cv2.rectangle(img, (50, 50), (200, 200), (0, 0, 255), 2) # for each parameter\n",
    "\n",
    "# Add text\n",
    "cv2.putText(img, \"OpenCV\", (60, 45), cv2.FONT_HERSHEY_SIMPLEX, 1, (255, 0, 0), 2)"
   ]
  },
  {
   "cell_type": "code",
   "execution_count": 10,
   "id": "1b4eae46",
   "metadata": {},
   "outputs": [],
   "source": [
    "cv2.imshow(\"My Image\", img)\n",
    "cv2.waitKey(0)  # Wait until a key is pressed\n",
    "cv2.destroyAllWindows()"
   ]
  },
  {
   "cell_type": "markdown",
   "id": "c3b1681a",
   "metadata": {},
   "source": [
    "# 📷 7. Access Camera and Take a Snapshot (OpenCV)"
   ]
  },
  {
   "cell_type": "code",
   "execution_count": null,
   "id": "d4e76357",
   "metadata": {},
   "outputs": [],
   "source": [
    "# run this in a script, not in a notebook\n",
    "import cv2\n",
    "\n",
    "cap = cv2.VideoCapture(0)  # 0 = default camera\n",
    "ret, frame = cap.read()\n",
    "cv2.imwrite(\"snapshot.jpg\", frame)\n",
    "cap.release()\n"
   ]
  },
  {
   "cell_type": "markdown",
   "id": "f160b832",
   "metadata": {},
   "source": [
    "# ⚙️ 8. Apply Image Filters"
   ]
  },
  {
   "cell_type": "code",
   "execution_count": 12,
   "id": "42a3fd5d",
   "metadata": {},
   "outputs": [
    {
     "data": {
      "text/plain": [
       "True"
      ]
     },
     "execution_count": 12,
     "metadata": {},
     "output_type": "execute_result"
    }
   ],
   "source": [
    "import cv2\n",
    "\n",
    "# img = cv2.imread(\"image.jpg\")\n",
    "\n",
    "# Blur\n",
    "blurred = cv2.GaussianBlur(img, (5, 5), 0)\n",
    "cv2.imwrite(\"cv_blurred.jpg\", blurred)\n",
    "\n",
    "# Edge detection\n",
    "edges = cv2.Canny(img, threshold1=100, threshold2=200)\n",
    "cv2.imwrite(\"cv_edges.jpg\", edges)"
   ]
  },
  {
   "cell_type": "markdown",
   "id": "45d8b44b",
   "metadata": {},
   "source": [
    "# 💾 9. Save the Result"
   ]
  },
  {
   "cell_type": "code",
   "execution_count": null,
   "id": "64a8ad36",
   "metadata": {},
   "outputs": [],
   "source": [
    "cv2.imwrite(\"output.jpg\", img)"
   ]
  }
 ],
 "metadata": {
  "kernelspec": {
   "display_name": "base",
   "language": "python",
   "name": "python3"
  },
  "language_info": {
   "codemirror_mode": {
    "name": "ipython",
    "version": 3
   },
   "file_extension": ".py",
   "mimetype": "text/x-python",
   "name": "python",
   "nbconvert_exporter": "python",
   "pygments_lexer": "ipython3",
   "version": "3.10.12"
  }
 },
 "nbformat": 4,
 "nbformat_minor": 5
}
